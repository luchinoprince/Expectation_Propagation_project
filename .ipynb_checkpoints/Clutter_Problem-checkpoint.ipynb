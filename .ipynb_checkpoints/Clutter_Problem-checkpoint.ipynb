{
 "cells": [
  {
   "cell_type": "markdown",
   "metadata": {},
   "source": [
    "Lets try to implement the clutter problem"
   ]
  },
  {
   "cell_type": "code",
   "execution_count": 177,
   "metadata": {},
   "outputs": [],
   "source": [
    "import numpy as np\n",
    "import matplotlib.pyplot as plt\n",
    "from scipy.integrate import simps\n",
    "\n"
   ]
  },
  {
   "cell_type": "markdown",
   "metadata": {},
   "source": [
    "Lets initiliaze the hyper parameters"
   ]
  },
  {
   "cell_type": "code",
   "execution_count": 355,
   "metadata": {},
   "outputs": [],
   "source": [
    "w=0.5;\n",
    "clutter_mean=0;\n",
    "clutter_var=130;\n",
    "prior_mean=0;\n",
    "prior_var=30;\n",
    "var=1;"
   ]
  },
  {
   "cell_type": "markdown",
   "metadata": {},
   "source": [
    "Lets generate now the data"
   ]
  },
  {
   "cell_type": "code",
   "execution_count": 356,
   "metadata": {},
   "outputs": [
    {
     "name": "stdout",
     "output_type": "stream",
     "text": [
      "the value of the true mean is:  2\n"
     ]
    }
   ],
   "source": [
    "n_samples=20\n",
    "x=np.zeros(n_samples)\n",
    "#mean=np.random.normal(loc=prior_mean, scale=prior_var)\n",
    "mean=2\n",
    "print(\"the value of the true mean is: \",mean)\n",
    "for i in range(n_samples):\n",
    "    coin=np.random.random()\n",
    "    if coin<w:\n",
    "        x[i]=np.random.normal(loc=clutter_mean, scale=clutter_var)\n",
    "    else:\n",
    "        x[i]=np.random.normal(loc=mean, scale=var)\n",
    "x;"
   ]
  },
  {
   "cell_type": "code",
   "execution_count": 357,
   "metadata": {},
   "outputs": [],
   "source": [
    "def calculating_cavities(m_n, v_n, m, v):\n",
    "    ## m, v are the current estimates of the posterior, \n",
    "    ## m_n, v_n are the current ones we wanna update\n",
    "    ##this creates an indecision form, i have to right it such that it gives no problem \n",
    "    #cavity_v = v*v_n/(v_n-v)\n",
    "    aux = 1/v - 1/v_n\n",
    "    cavity_v = 1/aux\n",
    "    cavity_m = m + cavity_v*(m-m_n)/v_n\n",
    "    return cavity_m, cavity_v\n",
    "\n",
    "##################################################################################################\n",
    "\n",
    "def normal_pdf(x, mean, var):\n",
    "    if var>0:\n",
    "        norm=(2*np.pi*var)**(1/2)\n",
    "    else:\n",
    "        #norm=-1*(-2*np.pi*var)**(1/2)\n",
    "        #print(\"i have a negative variance!\\n\")\n",
    "        ##it's gonna be negative....not sure is gonna work out\n",
    "        norm=(2*np.pi)**(1/2)*(-1*np.sqrt(-var))\n",
    "    exp=np.exp((-0.5/var) * ((x-mean)**2))\n",
    "    return exp/norm\n",
    "\n",
    "##################################################################################################\n",
    "\n",
    "def normalizer(w, x, cavity_m, cavity_v, clutter_var):\n",
    "    z = (1-w)*normal_pdf(x, cavity_m, cavity_v+1)+w*normal_pdf(x, 0, clutter_var)\n",
    "    return z\n",
    "\n",
    "##################################################################################################\n",
    "\n",
    "def update(w, x, cavity_m, cavity_v, m_n, v_n, clutter_var):\n",
    "    z = normalizer(w, x, cavity_m, cavity_v, clutter_var)\n",
    "    ro = 1-w*normal_pdf(x, 0, clutter_var)/z\n",
    "    \n",
    "    update_m = cavity_m+ro*(cavity_v/(cavity_v+1))*(x-cavity_m)\n",
    "    update_v = cavity_v - ro*(cavity_v)**(2)/(cavity_v+1) + ro*(1-ro)*(cavity_v)**(2)*(x-cavity_m)**(2)/((cavity_v+1)**(2))              \n",
    "    return update_m, update_v\n",
    "\n",
    "##################################################################################################\n",
    "\n",
    "def new_marginal(update_m, update_v, cavity_m, cavity_v, z):\n",
    "    aux=1/update_v-1/cavity_v\n",
    "    if aux!=0:\n",
    "        new_v=1/aux\n",
    "    else:\n",
    "        ##this remains the same\n",
    "        new_v=np.inf\n",
    "    if new_v==np.inf and (1/cavity_v == 0 or update_m==cavity_m):\n",
    "        new_m=cavity_m\n",
    "    else:\n",
    "        new_m=cavity_m+(new_v+cavity_v)/(cavity_v)*(update_m-cavity_m)\n",
    "    \n",
    "    denominator=((2*np.pi*new_v)**(1/2)*normal_pdf(new_m, cavity_m, new_v+cavity_v));\n",
    "    if denominator>0:\n",
    "        new_s=z/denominator\n",
    "    else:\n",
    "        new_s=np.inf\n",
    "    return new_v, new_m, new_s\n",
    "\n",
    "##################################################################################################\n",
    "\n",
    "def convergence(m_old, v_old, s_old, m_new, v_new, s_new, thresh):\n",
    "    #diff_m=np.abs(m_old-m_new)\n",
    "    #diff_v=np.abs(v_old, v_new)\n",
    "    #diff_s=np.abs(s_old, s_new)\n",
    "    #val=np.max(np.concatenate([diff_m, diff_v, diff_s]))\n",
    "    val_old=np.concatenate([m_old, v_old, s_old])\n",
    "    val_new=np.concatenate([m_new, v_new, s_new])\n",
    "    val=0\n",
    "    for i in range(len(val_old)):\n",
    "        if val_old[i]!=np.inf or val_new[i]!=np.inf:\n",
    "            ##this way i have no form of indecision\n",
    "            aux=np.abs(val_old[i]-val_new[i])\n",
    "            if aux>val:\n",
    "                val=aux\n",
    "                \n",
    "    #print(\"val: \", val)\n",
    "    if val<thresh:\n",
    "        return (True, val)\n",
    "    else:\n",
    "        return (False, val)\n",
    "\n"
   ]
  },
  {
   "cell_type": "code",
   "execution_count": 358,
   "metadata": {},
   "outputs": [
    {
     "data": {
      "text/plain": [
       "(array([ 1.,  0.,  0.,  0.,  0., 12.,  3.,  0.,  2.,  2.]),\n",
       " array([-297.59417975, -246.23402598, -194.87387222, -143.51371845,\n",
       "         -92.15356469,  -40.79341092,   10.56674284,   61.92689661,\n",
       "         113.28705037,  164.64720414,  216.00735791]),\n",
       " <a list of 10 Patch objects>)"
      ]
     },
     "execution_count": 358,
     "metadata": {},
     "output_type": "execute_result"
    },
    {
     "data": {
      "image/png": "[encoded data removed]",
      "text/plain": [
       "<Figure size 432x288 with 1 Axes>"
      ]
     },
     "metadata": {
      "needs_background": "light"
     },
     "output_type": "display_data"
    }
   ],
   "source": [
    "plt.hist(x)"
   ]
  },
  {
   "cell_type": "markdown",
   "metadata": {},
   "source": [
    "I should make v_n start at infinity, start with a big value and then check how it goes from here"
   ]
  },
  {
   "cell_type": "code",
   "execution_count": 359,
   "metadata": {},
   "outputs": [],
   "source": [
    "#s_n=(np.zeros(n_samples)+1e9*2*np.pi)**(1/2)\n",
    "s_n= np.ones(n_samples)\n",
    "m_n=np.zeros(n_samples)\n",
    "v_n=np.zeros(n_samples)+np.inf\n",
    "#v_n=np.zeros(n_samples)+1e6\n",
    "\n",
    "#s_old=np.copy(s_n)\n",
    "#v_old=np.copy(v_n)\n",
    "\n",
    "##i create the prior\n",
    "m_0=prior_mean\n",
    "s_0=(2*np.pi*prior_var)**(-1/2)\n",
    "v_0=prior_var\n",
    "\n",
    "##i start with the prior as the posterior\n",
    "m_posterior=m_0\n",
    "v_posterior=v_0"
   ]
  },
  {
   "cell_type": "code",
   "execution_count": 360,
   "metadata": {},
   "outputs": [
    {
     "name": "stderr",
     "output_type": "stream",
     "text": [
      "/anaconda3/lib/python3.6/site-packages/ipykernel_launcher.py:54: RuntimeWarning: invalid value encountered in double_scalars\n"
     ]
    }
   ],
   "source": [
    "thresh=1e-9\n",
    "conv=False\n",
    "iteration=0\n",
    "values_convergence=np.zeros(100)\n",
    "posterior_means=[]\n",
    "posterior_variance=[]\n",
    "\n",
    "posterior_means.append(m_posterior)\n",
    "posterior_variance.append(v_posterior)\n",
    "\n",
    "\n",
    "while not conv and iteration<100:\n",
    "    #print(\"\\n\");print(\"i am iter :\", iteration);print(\"\\n\")\n",
    "    \n",
    "    iteration+=1\n",
    "    m_old=np.copy(m_n)\n",
    "    v_old=np.copy(v_n)\n",
    "    s_old=np.copy(s_n)\n",
    "    ##with s i still have to understand if i have to divide for the normalization constant\n",
    "    for i in range(len(x)):\n",
    "        #if i%10==0:\n",
    "            #print(\"i am at example: \", i);\n",
    "        \n",
    "        #m_old, v_old = m_posterior, v_posterior\n",
    "        #if iteration==8:\n",
    "        #print(\"i is equal to: \", i)\n",
    "        if i%10==0 and iteration>10000:\n",
    "        ##i plot now, just for the first iteration to see how it goes\n",
    "            plt.figure(figsize=(15,10))\n",
    "            plt.title('i am ad datapoint: '+str(i))\n",
    "            xs=np.linspace(-10,10,10000)\n",
    "            ys=normal_pdf(xs, m_posterior, v_posterior)\n",
    "            plt.plot(xs,ys, color=\"blue\", label=\"current posterior estimate\")\n",
    "            plt.axvline(x=mean, color=\"red\", label=\"true generating value\")\n",
    "            aux=x[0:i]\n",
    "            aux2=np.zeros(len(aux))\n",
    "            plt.scatter(aux, aux2, marker=\"*\", color=\"green\", s=80, label=\"realization used\")\n",
    "            plt.legend()\n",
    "        \n",
    "        \n",
    "        if v_n[i]!=v_posterior:\n",
    "            #print(\"\\nv_n is: \", v_n[i])\n",
    "            #print(\"v_posterior: \", v_posterior)\n",
    "            #print(\"m_posterior: \", m_posterior)\n",
    "            cavity_m, cavity_v=calculating_cavities(m_n[i], v_n[i], m_posterior, v_posterior)\n",
    "            #print(\"cavity_m: \", cavity_m);print(\"cavity_v:\", cavity_v)\n",
    "        else:\n",
    "            #print(\"skipping i: \", i)\n",
    "            continue\n",
    "            \n",
    "        z=normalizer(w, x[i], cavity_m, cavity_v, clutter_var)\n",
    "        update_m, update_v = update(w, x[i], cavity_m, cavity_v, m_n[i], v_n[i], clutter_var)\n",
    "        new_v, new_m, new_s = new_marginal(update_m, update_v, cavity_m, cavity_v, z)\n",
    "        \n",
    "        v_n[i]=new_v\n",
    "        m_n[i]=new_m\n",
    "        s_n[i]=new_s\n",
    "        #print(\"new_w: \", new_v);print(\"new_m: \", new_m);print(\"new_s: \", new_s);\n",
    "        \n",
    "        m_posterior, v_posterior = update_m , update_v\n",
    "        posterior_means.append(m_posterior)\n",
    "        posterior_variance.append(v_posterior)\n",
    "        \n",
    "        #if i%10==0:\n",
    "            #print(\"mean posterior: \", m_posterior);print(\"variance posterior: \", v_posterior);print(\"\\n\")\n",
    "        #conv=convergence(m_posterior, v_posterior, m_old, v_old, thresh)\n",
    "    #if iteration==3:\n",
    "    #print(\"i am at iteration: \", iteration)\n",
    "    #print(\"m_old: \", m_old);print(\"m_n: \", m_n);print(\"\\n\");print(\"v_old: \", v_old);print(\"v_n: \", v_n);print(\"\\n\");\n",
    "    #print(\"s_old: \", s_old);print(\"s_n: \", s_n);print(\"\\n\")\n",
    "    ##now i calculate the convergence\n",
    "    aux=convergence(m_n, v_n, s_n, m_old, v_old, s_old, thresh)\n",
    "    conv=aux[0]\n",
    "    values_convergence[iteration-1]=aux[1]\n",
    "    "
   ]
  },
  {
   "cell_type": "markdown",
   "metadata": {},
   "source": [
    "I wanna plot now the evolution of the posterior"
   ]
  },
  {
   "cell_type": "code",
   "execution_count": 361,
   "metadata": {},
   "outputs": [
    {
     "data": {
      "text/plain": [
       "array([           inf,            inf, 2.46977023e+37, 2.03137231e+37,\n",
       "       1.08838512e+35, 5.17723004e+32, 1.03782904e+31, 5.36144912e+28,\n",
       "       2.93798253e+27, 2.46743649e+23, 1.21600937e+23, 2.84217094e-14,\n",
       "       0.00000000e+00, 0.00000000e+00, 0.00000000e+00, 0.00000000e+00,\n",
       "       0.00000000e+00, 0.00000000e+00, 0.00000000e+00, 0.00000000e+00,\n",
       "       0.00000000e+00, 0.00000000e+00, 0.00000000e+00, 0.00000000e+00,\n",
       "       0.00000000e+00, 0.00000000e+00, 0.00000000e+00, 0.00000000e+00,\n",
       "       0.00000000e+00, 0.00000000e+00, 0.00000000e+00, 0.00000000e+00,\n",
       "       0.00000000e+00, 0.00000000e+00, 0.00000000e+00, 0.00000000e+00,\n",
       "       0.00000000e+00, 0.00000000e+00, 0.00000000e+00, 0.00000000e+00,\n",
       "       0.00000000e+00, 0.00000000e+00, 0.00000000e+00, 0.00000000e+00,\n",
       "       0.00000000e+00, 0.00000000e+00, 0.00000000e+00, 0.00000000e+00,\n",
       "       0.00000000e+00, 0.00000000e+00, 0.00000000e+00, 0.00000000e+00,\n",
       "       0.00000000e+00, 0.00000000e+00, 0.00000000e+00, 0.00000000e+00,\n",
       "       0.00000000e+00, 0.00000000e+00, 0.00000000e+00, 0.00000000e+00,\n",
       "       0.00000000e+00, 0.00000000e+00, 0.00000000e+00, 0.00000000e+00,\n",
       "       0.00000000e+00, 0.00000000e+00, 0.00000000e+00, 0.00000000e+00,\n",
       "       0.00000000e+00, 0.00000000e+00, 0.00000000e+00, 0.00000000e+00,\n",
       "       0.00000000e+00, 0.00000000e+00, 0.00000000e+00, 0.00000000e+00,\n",
       "       0.00000000e+00, 0.00000000e+00, 0.00000000e+00, 0.00000000e+00,\n",
       "       0.00000000e+00, 0.00000000e+00, 0.00000000e+00, 0.00000000e+00,\n",
       "       0.00000000e+00, 0.00000000e+00, 0.00000000e+00, 0.00000000e+00,\n",
       "       0.00000000e+00, 0.00000000e+00, 0.00000000e+00, 0.00000000e+00,\n",
       "       0.00000000e+00, 0.00000000e+00, 0.00000000e+00, 0.00000000e+00,\n",
       "       0.00000000e+00, 0.00000000e+00, 0.00000000e+00, 0.00000000e+00])"
      ]
     },
     "execution_count": 361,
     "metadata": {},
     "output_type": "execute_result"
    }
   ],
   "source": [
    "values_convergence\n"
   ]
  },
  {
   "cell_type": "code",
   "execution_count": 362,
   "metadata": {},
   "outputs": [
    {
     "data": {
      "text/plain": [
       "<matplotlib.legend.Legend at 0x1198fb0f0>"
      ]
     },
     "execution_count": 362,
     "metadata": {},
     "output_type": "execute_result"
    },
    {
     "data": {
      "image/png": "[encoded data removed]",
      "text/plain": [
       "<Figure size 432x288 with 1 Axes>"
      ]
     },
     "metadata": {
      "needs_background": "light"
     },
     "output_type": "display_data"
    }
   ],
   "source": [
    "plt.plot(posterior_means, label=\"mean posterior\")\n",
    "plt.axhline(2, color=\"red\", label=\"truen mean\")\n",
    "plt.yscale(\"log\")\n",
    "plt.xscale(\"log\")\n",
    "plt.legend()"
   ]
  },
  {
   "cell_type": "code",
   "execution_count": 363,
   "metadata": {},
   "outputs": [
    {
     "data": {
      "text/plain": [
       "<matplotlib.legend.Legend at 0x120e73940>"
      ]
     },
     "execution_count": 363,
     "metadata": {},
     "output_type": "execute_result"
    },
    {
     "data": {
      "image/png": "[encoded data removed]",
      "text/plain": [
       "<Figure size 432x288 with 1 Axes>"
      ]
     },
     "metadata": {
      "needs_background": "light"
     },
     "output_type": "display_data"
    }
   ],
   "source": [
    "plt.plot(posterior_variance, label=\"evolution of var of approx posterior\")\n",
    "plt.yscale(\"log\")\n",
    "plt.xscale(\"log\")\n",
    "plt.legend()"
   ]
  },
  {
   "cell_type": "code",
   "execution_count": 364,
   "metadata": {},
   "outputs": [],
   "source": [
    "def unnormalized(x, mu, prior_var, clutter_var, var):\n",
    "    n=len(x)\n",
    "    #exponent= -1*(mu*mu)/(2*prior_var) + mu/clutter_var*(sum(x)) - n*mu*mu/(2*clutter_var);\n",
    "    first=np.exp(-1*(mu*mu)/(2*prior_var))\n",
    "    res=1;\n",
    "    for i in range(n):\n",
    "        factor=(2*np.pi*var)**(-1/2)*np.exp(-0.5*(x[i]-mu)**2) + (2*np.pi*clutter_var)**(-1/2)*np.exp(-x[i]*x[i]/(2*clutter_var))\n",
    "        res=res*factor\n",
    "        \n",
    "    return first*res"
   ]
  },
  {
   "cell_type": "code",
   "execution_count": 365,
   "metadata": {},
   "outputs": [
    {
     "name": "stderr",
     "output_type": "stream",
     "text": [
      "/anaconda3/lib/python3.6/site-packages/ipykernel_launcher.py:7: RuntimeWarning: invalid value encountered in true_divide\n",
      "  import sys\n"
     ]
    },
    {
     "data": {
      "text/plain": [
       "<matplotlib.legend.Legend at 0x124c0a358>"
      ]
     },
     "execution_count": 365,
     "metadata": {},
     "output_type": "execute_result"
    },
    {
     "data": {
      "image/png": "[encoded data removed]",
      "text/plain": [
       "<Figure size 1440x720 with 1 Axes>"
      ]
     },
     "metadata": {
      "needs_background": "light"
     },
     "output_type": "display_data"
    }
   ],
   "source": [
    "mu=np.linspace(-10,10,10000)\n",
    "y_mu=np.zeros(10000)\n",
    "for i in range(10000):\n",
    "    y_mu[i] = unnormalized(x, mu[i], prior_var, clutter_var, var)\n",
    "#y_mu=unnormalized(x, mu, prior_var, clutter_var)\n",
    "normalizer = simps(y_mu, mu)\n",
    "y_mu_normalized=y_mu/normalizer\n",
    "ys=normal_pdf(mu, m_posterior, v_posterior)\n",
    "\n",
    "plt.figure(figsize=(20,10))\n",
    "plt.plot(mu, y_mu_normalized, color=\"green\", linewidth=0.7, label=\"approx with num integration\")\n",
    "plt.axvline(x=2, color=\"red\", label=\"true generating value\")\n",
    "plt.plot(mu,ys, color=\"blue\", linewidth=0.7, label=\"current posterior estimate\")\n",
    "plt.legend(loc=\"upper left\")\n"
   ]
  },
  {
   "cell_type": "code",
   "execution_count": null,
   "metadata": {},
   "outputs": [],
   "source": []
  }
 ],
 "metadata": {
  "kernelspec": {
   "display_name": "Python 3",
   "language": "python",
   "name": "python3"
  },
  "language_info": {
   "codemirror_mode": {
    "name": "ipython",
    "version": 3
   },
   "file_extension": ".py",
   "mimetype": "text/x-python",
   "name": "python",
   "nbconvert_exporter": "python",
   "pygments_lexer": "ipython3",
   "version": "3.6.9"
  }
 },
 "nbformat": 4,
 "nbformat_minor": 4
}
