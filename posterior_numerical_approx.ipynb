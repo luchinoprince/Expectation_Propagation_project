{
 "cells": [
  {
   "cell_type": "code",
   "execution_count": 82,
   "metadata": {},
   "outputs": [],
   "source": [
    "import numpy as np\n",
    "from scipy.integrate import simps\n",
    "import matplotlib.pyplot as plt\n",
    "import sys"
   ]
  },
  {
   "cell_type": "markdown",
   "metadata": {},
   "source": [
    "My posterior on mu p(mu|x) is proportional to exp(-mu^2/2)*produttoria(-(x-mu)^2/2)"
   ]
  },
  {
   "cell_type": "code",
   "execution_count": 122,
   "metadata": {},
   "outputs": [],
   "source": [
    "w=0.5;\n",
    "clutter_mean=0;\n",
    "clutter_var=5;\n",
    "prior_mean=0;\n",
    "prior_var=3;\n",
    "var=1;"
   ]
  },
  {
   "cell_type": "code",
   "execution_count": 123,
   "metadata": {},
   "outputs": [
    {
     "name": "stdout",
     "output_type": "stream",
     "text": [
      "the value of the true mean is:  2\n"
     ]
    }
   ],
   "source": [
    "n_samples=20\n",
    "x=np.zeros(n_samples)\n",
    "#mean=np.random.normal(loc=prior_mean, scale=prior_var)\n",
    "mean=2\n",
    "print(\"the value of the true mean is: \",mean)\n",
    "for i in range(n_samples):\n",
    "    coin=np.random.random()\n",
    "    if coin<w:\n",
    "        x[i]=np.random.normal(loc=clutter_mean, scale=clutter_var)\n",
    "    else:\n",
    "        x[i]=np.random.normal(loc=mean, scale=var)\n",
    "x;"
   ]
  },
  {
   "cell_type": "code",
   "execution_count": 124,
   "metadata": {},
   "outputs": [],
   "source": [
    "def unnormalized(x, mu, prior_var, clutter_var, var):\n",
    "    n=len(x)\n",
    "    #exponent= -1*(mu*mu)/(2*prior_var) + mu/clutter_var*(sum(x)) - n*mu*mu/(2*clutter_var);\n",
    "    first=np.exp(-1*(mu*mu)/(2*prior_var))\n",
    "    res=1;\n",
    "    for i in range(n):\n",
    "        factor=(2*np.pi*var)**(-1/2)*np.exp(-0.5*(x[i]-mu)**2) + (2*np.pi*clutter_var)**(-1/2)*np.exp(-x[i]*x[i]/(2*clutter_var))\n",
    "        res=res*factor\n",
    "        \n",
    "    return first*res"
   ]
  },
  {
   "cell_type": "code",
   "execution_count": 125,
   "metadata": {},
   "outputs": [
    {
     "data": {
      "text/plain": [
       "<matplotlib.lines.Line2D at 0x151c78a9b0>"
      ]
     },
     "execution_count": 125,
     "metadata": {},
     "output_type": "execute_result"
    },
    {
     "data": {
      "image/png": "[encoded data removed]",
      "text/plain": [
       "<Figure size 432x288 with 1 Axes>"
      ]
     },
     "metadata": {
      "needs_background": "light"
     },
     "output_type": "display_data"
    }
   ],
   "source": [
    "mu=np.linspace(-10,10,10000)\n",
    "y_mu=np.zeros(10000)\n",
    "for i in range(10000):\n",
    "    y_mu[i] = unnormalized(x, mu[i], prior_var, clutter_var, var)\n",
    "#y_mu=unnormalized(x, mu, prior_var, clutter_var)\n",
    "normalizer = simps(y_mu, mu)\n",
    "y_mu_normalized=y_mu/normalizer\n",
    "plt.plot(mu, y_mu_normalized, color=\"green\", linewidth=1.0)\n",
    "plt.axvline(x=2, color=\"red\", label=\"true generating value\")\n",
    "\n"
   ]
  },
  {
   "cell_type": "code",
   "execution_count": 71,
   "metadata": {},
   "outputs": [],
   "source": [
    "normalizer = simps(y_mu, mu)"
   ]
  },
  {
   "cell_type": "code",
   "execution_count": null,
   "metadata": {},
   "outputs": [],
   "source": []
  },
  {
   "cell_type": "code",
   "execution_count": 91,
   "metadata": {},
   "outputs": [
    {
     "data": {
      "text/plain": [
       "[<matplotlib.lines.Line2D at 0x151dd54978>]"
      ]
     },
     "execution_count": 91,
     "metadata": {},
     "output_type": "execute_result"
    },
    {
     "data": {
      "image/png": "[encoded data removed]",
      "text/plain": [
       "<Figure size 432x288 with 1 Axes>"
      ]
     },
     "metadata": {
      "needs_background": "light"
     },
     "output_type": "display_data"
    }
   ],
   "source": [
    "plt.plot(y_mu)"
   ]
  },
  {
   "cell_type": "code",
   "execution_count": null,
   "metadata": {},
   "outputs": [],
   "source": []
  }
 ],
 "metadata": {
  "kernelspec": {
   "display_name": "Python 3",
   "language": "python",
   "name": "python3"
  },
  "language_info": {
   "codemirror_mode": {
    "name": "ipython",
    "version": 3
   },
   "file_extension": ".py",
   "mimetype": "text/x-python",
   "name": "python",
   "nbconvert_exporter": "python",
   "pygments_lexer": "ipython3",
   "version": "3.6.9"
  }
 },
 "nbformat": 4,
 "nbformat_minor": 4
}
